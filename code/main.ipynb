{
  "cells": [
    {
      "cell_type": "code",
      "execution_count": 2,
      "id": "66f55daf",
      "metadata": {
        "id": "66f55daf"
      },
      "outputs": [],
      "source": [
        "#LOAD AND IMPORT MODELS\n",
        "\n",
        "from tensorflow.keras.layers import Input, Lambda, Dense, Flatten,Dropout\n",
        "from tensorflow.keras.models import Model\n",
        "from tensorflow.keras.applications.vgg19 import VGG19\n",
        "from tensorflow.keras.applications.vgg19 import preprocess_input\n",
        "from tensorflow.keras.preprocessing import image\n",
        "from tensorflow.keras.preprocessing.image import ImageDataGenerator\n",
        "from tensorflow.keras.models import Sequential\n",
        "import numpy as np\n",
        "import pandas as pd\n",
        "import os\n",
        "import cv2\n",
        "import matplotlib.pyplot as plt"
      ]
    },
    {
      "cell_type": "code",
      "source": [
        "from google.colab import drive\n",
        "drive.mount('/content/drive')"
      ],
      "metadata": {
        "colab": {
          "base_uri": "https://localhost:8080/"
        },
        "id": "mpGuowrbxkvX",
        "outputId": "19e8ca34-2dcb-4ffe-acbe-95c995c3e1f1"
      },
      "id": "mpGuowrbxkvX",
      "execution_count": 1,
      "outputs": [
        {
          "output_type": "stream",
          "name": "stdout",
          "text": [
            "Mounted at /content/drive\n"
          ]
        }
      ]
    },
    {
      "cell_type": "code",
      "execution_count": 3,
      "id": "b78cad79",
      "metadata": {
        "id": "b78cad79"
      },
      "outputs": [],
      "source": [
        "train = ('C:/Users/HP/Desktop/Skin cancer/Train') # train images dir  \n",
        "val = ('C:/Users/HP/Desktop/Skin cancer/Test') # test image dir\n",
        "\n",
        "# labels or classes in both train and test dir\n",
        "labels = ['actinic keratosis',\n",
        " 'basal cell carcinoma',\n",
        " 'dermatofibroma',\n",
        " 'melanoma',\n",
        " 'nevus',\n",
        " 'pigmented benign keratosis',\n",
        " 'seborrheic keratosis',\n",
        " 'squamous cell carcinoma',\n",
        " 'vascular lesion']"
      ]
    },
    {
      "cell_type": "code",
      "execution_count": 5,
      "id": "fdbc8723",
      "metadata": {
        "colab": {
          "base_uri": "https://localhost:8080/"
        },
        "id": "fdbc8723",
        "outputId": "6f28d8f5-53f7-4f97-d4bc-bf928f8fb06f"
      },
      "outputs": [
        {
          "output_type": "execute_result",
          "data": {
            "text/plain": [
              "['nevus',\n",
              " 'actinic keratosis',\n",
              " 'vascular lesion',\n",
              " 'seborrheic keratosis',\n",
              " 'pigmented benign keratosis',\n",
              " 'melanoma',\n",
              " 'basal cell carcinoma',\n",
              " 'dermatofibroma',\n",
              " 'squamous cell carcinoma']"
            ]
          },
          "metadata": {},
          "execution_count": 5
        }
      ],
      "source": [
        "os.listdir('C:/Users/HP/Desktop/Skin cancer/Train')"
      ]
    },
    {
      "cell_type": "code",
      "execution_count": 6,
      "id": "d51ebc44",
      "metadata": {
        "id": "d51ebc44"
      },
      "outputs": [],
      "source": [
        "# load train and test images into list\n",
        "# Resize images\n",
        "# Convert images from rgb to greyscale if required\n",
        "\n",
        "x_train=[]\n",
        "\n",
        "for folder in os.listdir(train):\n",
        "\n",
        "    sub_path=train+\"/\"+folder\n",
        "\n",
        "    for img in os.listdir(sub_path):\n",
        "\n",
        "        image_path=sub_path+\"/\"+img\n",
        "\n",
        "        img_arr=cv2.imread(image_path)\n",
        "\n",
        "        img_arr=cv2.resize(img_arr,(224,224))\n",
        "\n",
        "        x_train.append(img_arr)\n",
        "        \n",
        "x_test=[]\n",
        "\n",
        "for folder in os.listdir(val):\n",
        "\n",
        "    sub_path=val+\"/\"+folder\n",
        "\n",
        "    for img in os.listdir(sub_path):\n",
        "\n",
        "        image_path=sub_path+\"/\"+img\n",
        "\n",
        "        img_arr=cv2.imread(image_path)\n",
        "\n",
        "        img_arr=cv2.resize(img_arr,(224,224))\n",
        "\n",
        "        x_test.append(img_arr)\n"
      ]
    },
    {
      "cell_type": "code",
      "execution_count": 7,
      "id": "eee8e549",
      "metadata": {
        "id": "eee8e549"
      },
      "outputs": [],
      "source": [
        "# list converted to numpy arrays\n",
        "\n",
        "train_x=np.array(x_train, dtype=np.float32)\n",
        "test_x=np.array(x_test, dtype=np.float32)"
      ]
    },
    {
      "cell_type": "code",
      "execution_count": 8,
      "id": "244903d1",
      "metadata": {
        "id": "244903d1"
      },
      "outputs": [],
      "source": [
        "#Normalization done by dividing by the maximum value ie 225\n",
        "\n",
        "train_X = []\n",
        "for number in train_x:\n",
        "    train_X.append(number / 255.0)\n",
        "\n",
        "test_X = []\n",
        "for number in test_x:\n",
        "    test_X.append(number / 255.0)"
      ]
    },
    {
      "cell_type": "code",
      "execution_count": 9,
      "id": "0b8d3906",
      "metadata": {
        "id": "0b8d3906"
      },
      "outputs": [],
      "source": [
        "# Data augmentation using IMAGEGENERATOR\n",
        "\n",
        "train_datagen = ImageDataGenerator(rescale = 1./255)\n",
        "\n",
        "test_datagen = ImageDataGenerator(rescale = 1./255)"
      ]
    },
    {
      "cell_type": "code",
      "execution_count": 10,
      "id": "da6d38e1",
      "metadata": {
        "colab": {
          "base_uri": "https://localhost:8080/"
        },
        "id": "da6d38e1",
        "outputId": "899be672-5770-4b5f-deb2-e0bb8550c7eb"
      },
      "outputs": [
        {
          "output_type": "stream",
          "name": "stdout",
          "text": [
            "Found 2317 images belonging to 9 classes.\n",
            "Found 118 images belonging to 9 classes.\n"
          ]
        }
      ],
      "source": [
        "training_set = train_datagen.flow_from_directory(train,\n",
        "                                                 target_size = (224, 224),\n",
        "                                                 batch_size = 32,\n",
        "                                                 class_mode = 'sparse')\n",
        "test_set = test_datagen.flow_from_directory(val,\n",
        "                                            target_size = (224, 224),\n",
        "                                            batch_size = 32,\n",
        "                                            class_mode = 'sparse')"
      ]
    },
    {
      "cell_type": "code",
      "execution_count": 11,
      "id": "8873e37f",
      "metadata": {
        "colab": {
          "base_uri": "https://localhost:8080/"
        },
        "id": "8873e37f",
        "outputId": "239c0691-80c1-4074-86c8-a2bde3415ef1"
      },
      "outputs": [
        {
          "output_type": "execute_result",
          "data": {
            "text/plain": [
              "((2317,), (118,))"
            ]
          },
          "metadata": {},
          "execution_count": 11
        }
      ],
      "source": [
        "training_set.class_indices\n",
        "test_set.class_indices\n",
        "train_y=training_set.classes\n",
        "test_y=test_set.classes\n",
        "\n",
        "train_y.shape, test_y.shape"
      ]
    },
    {
      "cell_type": "code",
      "execution_count": 12,
      "id": "bef5d285",
      "metadata": {
        "id": "bef5d285"
      },
      "outputs": [],
      "source": [
        "height = 224\n",
        "width = 224\n",
        "channels = 3\n",
        "input_shape = (height, width, channels)\n"
      ]
    },
    {
      "cell_type": "code",
      "execution_count": 13,
      "id": "ed44d5a8",
      "metadata": {
        "colab": {
          "base_uri": "https://localhost:8080/"
        },
        "id": "ed44d5a8",
        "outputId": "0ebb2bd1-1cc8-439c-ac5f-e0d5a175948e"
      },
      "outputs": [
        {
          "output_type": "stream",
          "name": "stdout",
          "text": [
            "Downloading data from https://storage.googleapis.com/tensorflow/keras-applications/vgg19/vgg19_weights_tf_dim_ordering_tf_kernels_notop.h5\n",
            "80142336/80134624 [==============================] - 1s 0us/step\n",
            "80150528/80134624 [==============================] - 1s 0us/step\n"
          ]
        }
      ],
      "source": [
        "# USE OF VGG OR EFFICIENTNET PRETRAINED WEIGHTS TO ACHIEVE IMPROVED ACCURACY \n",
        "from tensorflow.keras.applications.vgg19 import VGG19\n",
        "vgg = VGG19(input_shape=input_shape, weights='imagenet', include_top=False)\n",
        "\n",
        "for layer in vgg.layers:\n",
        "    layer.trainable = False"
      ]
    },
    {
      "cell_type": "code",
      "execution_count": 14,
      "id": "0ef5d297",
      "metadata": {
        "colab": {
          "base_uri": "https://localhost:8080/"
        },
        "id": "0ef5d297",
        "outputId": "91f55509-c4e7-4e0e-e0c0-7e81e33c9996"
      },
      "outputs": [
        {
          "output_type": "stream",
          "name": "stdout",
          "text": [
            "Model: \"model\"\n",
            "_________________________________________________________________\n",
            " Layer (type)                Output Shape              Param #   \n",
            "=================================================================\n",
            " input_1 (InputLayer)        [(None, 224, 224, 3)]     0         \n",
            "                                                                 \n",
            " block1_conv1 (Conv2D)       (None, 224, 224, 64)      1792      \n",
            "                                                                 \n",
            " block1_conv2 (Conv2D)       (None, 224, 224, 64)      36928     \n",
            "                                                                 \n",
            " block1_pool (MaxPooling2D)  (None, 112, 112, 64)      0         \n",
            "                                                                 \n",
            " block2_conv1 (Conv2D)       (None, 112, 112, 128)     73856     \n",
            "                                                                 \n",
            " block2_conv2 (Conv2D)       (None, 112, 112, 128)     147584    \n",
            "                                                                 \n",
            " block2_pool (MaxPooling2D)  (None, 56, 56, 128)       0         \n",
            "                                                                 \n",
            " block3_conv1 (Conv2D)       (None, 56, 56, 256)       295168    \n",
            "                                                                 \n",
            " block3_conv2 (Conv2D)       (None, 56, 56, 256)       590080    \n",
            "                                                                 \n",
            " block3_conv3 (Conv2D)       (None, 56, 56, 256)       590080    \n",
            "                                                                 \n",
            " block3_conv4 (Conv2D)       (None, 56, 56, 256)       590080    \n",
            "                                                                 \n",
            " block3_pool (MaxPooling2D)  (None, 28, 28, 256)       0         \n",
            "                                                                 \n",
            " block4_conv1 (Conv2D)       (None, 28, 28, 512)       1180160   \n",
            "                                                                 \n",
            " block4_conv2 (Conv2D)       (None, 28, 28, 512)       2359808   \n",
            "                                                                 \n",
            " block4_conv3 (Conv2D)       (None, 28, 28, 512)       2359808   \n",
            "                                                                 \n",
            " block4_conv4 (Conv2D)       (None, 28, 28, 512)       2359808   \n",
            "                                                                 \n",
            " block4_pool (MaxPooling2D)  (None, 14, 14, 512)       0         \n",
            "                                                                 \n",
            " block5_conv1 (Conv2D)       (None, 14, 14, 512)       2359808   \n",
            "                                                                 \n",
            " block5_conv2 (Conv2D)       (None, 14, 14, 512)       2359808   \n",
            "                                                                 \n",
            " block5_conv3 (Conv2D)       (None, 14, 14, 512)       2359808   \n",
            "                                                                 \n",
            " block5_conv4 (Conv2D)       (None, 14, 14, 512)       2359808   \n",
            "                                                                 \n",
            " block5_pool (MaxPooling2D)  (None, 7, 7, 512)         0         \n",
            "                                                                 \n",
            " flatten (Flatten)           (None, 25088)             0         \n",
            "                                                                 \n",
            " dense (Dense)               (None, 9)                 225801    \n",
            "                                                                 \n",
            "=================================================================\n",
            "Total params: 20,250,185\n",
            "Trainable params: 225,801\n",
            "Non-trainable params: 20,024,384\n",
            "_________________________________________________________________\n"
          ]
        }
      ],
      "source": [
        "x = Flatten()(vgg.output)\n",
        "prediction = Dense(9, activation='softmax')(x)\n",
        "model = Model(inputs=vgg.input, outputs=prediction)\n",
        "model.summary()"
      ]
    },
    {
      "cell_type": "code",
      "execution_count": 15,
      "id": "28ec7ee1",
      "metadata": {
        "id": "28ec7ee1"
      },
      "outputs": [],
      "source": [
        "# COMPILE MODEL\n",
        "model.compile(\n",
        "  loss='sparse_categorical_crossentropy',\n",
        "  optimizer=\"adam\",\n",
        "  metrics=['accuracy']\n",
        ")"
      ]
    },
    {
      "cell_type": "code",
      "execution_count": 16,
      "id": "47bfbd05",
      "metadata": {
        "id": "47bfbd05"
      },
      "outputs": [],
      "source": [
        "# APPLTY EARLY STOPPING\n",
        "from tensorflow.keras.callbacks import EarlyStopping\n",
        "early_stop=EarlyStopping(monitor='val_loss',mode='min',verbose=1,patience=5)"
      ]
    },
    {
      "cell_type": "code",
      "execution_count": 17,
      "id": "b5a43332",
      "metadata": {
        "colab": {
          "base_uri": "https://localhost:8080/"
        },
        "id": "b5a43332",
        "outputId": "e82c4fa1-dcf9-4b61-b905-52739fc4b55c"
      },
      "outputs": [
        {
          "output_type": "stream",
          "name": "stdout",
          "text": [
            "Epoch 1/10\n",
            "73/73 [==============================] - 1458s 20s/step - loss: 2.0215 - accuracy: 0.3297 - val_loss: 2.2047 - val_accuracy: 0.1525\n",
            "Epoch 2/10\n",
            "73/73 [==============================] - 1425s 20s/step - loss: 1.4938 - accuracy: 0.4722 - val_loss: 2.2149 - val_accuracy: 0.3051\n",
            "Epoch 3/10\n",
            "73/73 [==============================] - 1403s 19s/step - loss: 1.2406 - accuracy: 0.5568 - val_loss: 2.1833 - val_accuracy: 0.3305\n",
            "Epoch 4/10\n",
            "73/73 [==============================] - 1406s 19s/step - loss: 1.1111 - accuracy: 0.6111 - val_loss: 2.2367 - val_accuracy: 0.2712\n",
            "Epoch 5/10\n",
            "73/73 [==============================] - 1426s 20s/step - loss: 1.0012 - accuracy: 0.6573 - val_loss: 2.4007 - val_accuracy: 0.3305\n",
            "Epoch 6/10\n",
            "73/73 [==============================] - 1423s 19s/step - loss: 0.9386 - accuracy: 0.6659 - val_loss: 1.8658 - val_accuracy: 0.4237\n",
            "Epoch 7/10\n",
            "73/73 [==============================] - 1397s 19s/step - loss: 0.8544 - accuracy: 0.6962 - val_loss: 1.8788 - val_accuracy: 0.3475\n",
            "Epoch 8/10\n",
            "73/73 [==============================] - 1423s 20s/step - loss: 0.8384 - accuracy: 0.7164 - val_loss: 2.2772 - val_accuracy: 0.3644\n",
            "Epoch 9/10\n",
            "73/73 [==============================] - 1397s 19s/step - loss: 0.7579 - accuracy: 0.7458 - val_loss: 1.8863 - val_accuracy: 0.3983\n",
            "Epoch 10/10\n",
            "73/73 [==============================] - 1396s 19s/step - loss: 0.6909 - accuracy: 0.7760 - val_loss: 1.9527 - val_accuracy: 0.3644\n"
          ]
        },
        {
          "output_type": "execute_result",
          "data": {
            "text/plain": [
              "<keras.callbacks.History at 0x7f03b4310610>"
            ]
          },
          "metadata": {},
          "execution_count": 17
        }
      ],
      "source": [
        "# FIT MODEL TO DATA\n",
        "\n",
        "model.fit(x=training_set, validation_data=test_set ,epochs=10 ,callbacks=[early_stop],verbose=1,batch_size=32,shuffle=True)"
      ]
    },
    {
      "cell_type": "code",
      "execution_count": 20,
      "id": "317abd7b",
      "metadata": {
        "colab": {
          "base_uri": "https://localhost:8080/"
        },
        "id": "317abd7b",
        "outputId": "6b1c2bc3-0a21-4714-faa8-a26f73953ea6"
      },
      "outputs": [
        {
          "output_type": "stream",
          "name": "stdout",
          "text": [
            "Saved model to disk\n"
          ]
        }
      ],
      "source": [
        "# SAVE MODEL \n",
        "# MODEL ARCHITECTURE SAVED AS JSON AND WEIGHTS AS HDH5\n",
        "\n",
        "from keras.models import model_from_json\n",
        "\n",
        "# serialize model to JSON\n",
        "model_json = model.to_json()\n",
        "with open(\"C:/Users/HP/Desktop/Skin cancer/model/model.json\", \"w\") as json_file:\n",
        "    json_file.write(model_json)\n",
        "\n",
        "# serialize weights to HDF5\n",
        "model.save_weights(\"C:/Users/HP/Desktop/Skin cancer/model/model.h5\")\n",
        "print(\"Saved model to disk\")"
      ]
    },
    {
      "cell_type": "code",
      "execution_count": 21,
      "id": "08bcb469",
      "metadata": {
        "colab": {
          "base_uri": "https://localhost:8080/"
        },
        "id": "08bcb469",
        "outputId": "94535965-2eb3-4f4e-e96c-478e3ef7a668"
      },
      "outputs": [
        {
          "output_type": "stream",
          "name": "stdout",
          "text": [
            "Loaded model from disk\n"
          ]
        }
      ],
      "source": [
        "###load model for use\n",
        "from keras.models import model_from_json\n",
        "\n",
        "# load json and create model\n",
        "json_file = open('C:/Users/HP/Desktop/Skin cancer/model/model.json', 'r')\n",
        "loaded_model_json = json_file.read()\n",
        "json_file.close()\n",
        "loaded_model = model_from_json(loaded_model_json)\n",
        "\n",
        "# load weights into new model\n",
        "loaded_model.load_weights(\"C:/Users/HP/Desktop/Skin cancer/model/model.h5\")\n",
        "print(\"Loaded model from disk\")"
      ]
    },
    {
      "cell_type": "code",
      "source": [
        "#load new image and test model"
      ],
      "metadata": {
        "id": "X6H0oeO45G7W"
      },
      "id": "X6H0oeO45G7W",
      "execution_count": null,
      "outputs": []
    },
    {
      "cell_type": "code",
      "source": [
        "\n",
        "from PIL import Image \n",
        "import cv2\n",
        "import numpy as np\n",
        "\n",
        "img = cv2.imread(\"Insert new image here\", cv2.IMREAD_COLOR)\n",
        "new_image = cv2.cvtColor(img,cv2.COLOR_BGR2RGB)\n",
        "x = cv2.resize(new_image,(224,224))\n",
        "X = x.reshape(1,224,224,3)\n",
        "X=np.array(X, dtype=np.float32)\n",
        "X = X/225.0    \n",
        "X\n",
        "\n",
        "y = loaded_model.predict(X)\n",
        "result= np.argmax(y, axis=1) # code returns maximum value from the probability\n",
        "\n",
        "print(result())\n"
      ],
      "metadata": {
        "id": "W21ow-Tk5AOE"
      },
      "id": "W21ow-Tk5AOE",
      "execution_count": null,
      "outputs": []
    }
  ],
  "metadata": {
    "kernelspec": {
      "display_name": "Python 3",
      "language": "python",
      "name": "python3"
    },
    "language_info": {
      "codemirror_mode": {
        "name": "ipython",
        "version": 3
      },
      "file_extension": ".py",
      "mimetype": "text/x-python",
      "name": "python",
      "nbconvert_exporter": "python",
      "pygments_lexer": "ipython3",
      "version": "3.8.8"
    },
    "colab": {
      "name": "main.ipynb",
      "provenance": [],
      "collapsed_sections": []
    }
  },
  "nbformat": 4,
  "nbformat_minor": 5
}